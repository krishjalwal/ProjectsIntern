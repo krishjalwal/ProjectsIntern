{
  "cells": [
    {
      "cell_type": "markdown",
      "metadata": {
        "id": "view-in-github",
        "colab_type": "text"
      },
      "source": [
        "<a href=\"https://colab.research.google.com/github/krishjalwal/ProjectsIntern/blob/main/BDAdrugProject.ipynb\" target=\"_parent\"><img src=\"https://colab.research.google.com/assets/colab-badge.svg\" alt=\"Open In Colab\"/></a>"
      ]
    },
    {
      "cell_type": "markdown",
      "id": "cabba380",
      "metadata": {
        "id": "cabba380"
      },
      "source": [
        "# Classification with Pyspark\n"
      ]
    },
    {
      "cell_type": "code",
      "execution_count": 2,
      "id": "eb33072b",
      "metadata": {
        "id": "eb33072b"
      },
      "outputs": [],
      "source": [
        "from pyspark.sql import SparkSession\n",
        "spark = SparkSession.builder.appName('treecode').getOrCreate()\n"
      ]
    },
    {
      "cell_type": "code",
      "execution_count": 3,
      "id": "f5beff59",
      "metadata": {
        "id": "f5beff59"
      },
      "outputs": [],
      "source": [
        "\n",
        "data = spark.read.csv('drug.csv',inferSchema=True,header=True)"
      ]
    },
    {
      "cell_type": "code",
      "execution_count": 4,
      "id": "ea6cb553",
      "metadata": {
        "colab": {
          "base_uri": "https://localhost:8080/"
        },
        "id": "ea6cb553",
        "outputId": "5a6b36d3-661e-4099-c255-eee00f8d047f"
      },
      "outputs": [
        {
          "output_type": "stream",
          "name": "stdout",
          "text": [
            "root\n",
            " |-- age: integer (nullable = true)\n",
            " |-- sex: string (nullable = true)\n",
            " |-- bp: string (nullable = true)\n",
            " |-- cholesterol: string (nullable = true)\n",
            " |-- Na_to_K: double (nullable = true)\n",
            " |-- drug: string (nullable = true)\n",
            "\n"
          ]
        }
      ],
      "source": [
        "\n",
        "data.printSchema()"
      ]
    },
    {
      "cell_type": "code",
      "execution_count": 5,
      "id": "f7556492",
      "metadata": {
        "colab": {
          "base_uri": "https://localhost:8080/"
        },
        "id": "f7556492",
        "outputId": "c27e2eac-cc72-401c-9122-58b585d44acb"
      },
      "outputs": [
        {
          "output_type": "execute_result",
          "data": {
            "text/plain": [
              "Row(age=23, sex='F', bp='HIGH', cholesterol='HIGH', Na_to_K=25.355, drug='drugY')"
            ]
          },
          "metadata": {},
          "execution_count": 5
        }
      ],
      "source": [
        "data.head()"
      ]
    },
    {
      "cell_type": "code",
      "execution_count": 6,
      "id": "9d4743a2",
      "metadata": {
        "id": "9d4743a2"
      },
      "outputs": [],
      "source": [
        "\n",
        "from pyspark.ml.linalg import Vectors\n",
        "from pyspark.ml.feature import VectorAssembler\n",
        "from pyspark.ml import Pipeline\n",
        "from pyspark.ml.feature import IndexToString, StringIndexer"
      ]
    },
    {
      "cell_type": "code",
      "execution_count": 7,
      "id": "3fdad2a2",
      "metadata": {
        "colab": {
          "base_uri": "https://localhost:8080/"
        },
        "id": "3fdad2a2",
        "outputId": "4aa9b011-849d-4da6-c690-4e430fdf2e64"
      },
      "outputs": [
        {
          "output_type": "stream",
          "name": "stdout",
          "text": [
            "+---+---+------+-----------+-------+-----+\n",
            "|age|sex|    bp|cholesterol|Na_to_K| drug|\n",
            "+---+---+------+-----------+-------+-----+\n",
            "| 23|  F|  HIGH|       HIGH| 25.355|drugY|\n",
            "| 47|  M|   LOW|       HIGH| 13.093|drugC|\n",
            "| 47|  M|   LOW|       HIGH| 10.114|drugC|\n",
            "| 28|  F|NORMAL|       HIGH|  7.798|drugX|\n",
            "| 61|  F|   LOW|       HIGH| 18.043|drugY|\n",
            "| 22|  F|NORMAL|       HIGH|  8.607|drugX|\n",
            "| 49|  F|NORMAL|       HIGH| 16.275|drugY|\n",
            "| 41|  M|   LOW|       HIGH| 11.037|drugC|\n",
            "| 60|  M|NORMAL|       HIGH| 15.171|drugY|\n",
            "| 43|  M|   LOW|     NORMAL| 19.368|drugY|\n",
            "| 47|  F|   LOW|       HIGH| 11.767|drugC|\n",
            "| 34|  F|  HIGH|     NORMAL| 19.199|drugY|\n",
            "| 43|  M|   LOW|       HIGH| 15.376|drugY|\n",
            "| 74|  F|   LOW|       HIGH| 20.942|drugY|\n",
            "| 50|  F|NORMAL|       HIGH| 12.703|drugX|\n",
            "| 16|  F|  HIGH|     NORMAL| 15.516|drugY|\n",
            "| 69|  M|   LOW|     NORMAL| 11.455|drugX|\n",
            "| 43|  M|  HIGH|       HIGH| 13.972|drugA|\n",
            "| 23|  M|   LOW|       HIGH|  7.298|drugC|\n",
            "| 32|  F|  HIGH|     NORMAL| 25.974|drugY|\n",
            "+---+---+------+-----------+-------+-----+\n",
            "only showing top 20 rows\n",
            "\n"
          ]
        }
      ],
      "source": [
        "\n",
        "data.show()\n"
      ]
    },
    {
      "cell_type": "code",
      "execution_count": 8,
      "id": "80750f28",
      "metadata": {
        "colab": {
          "base_uri": "https://localhost:8080/"
        },
        "id": "80750f28",
        "outputId": "7f5d0432-c945-4f54-da94-c709dd3b2ed5"
      },
      "outputs": [
        {
          "output_type": "execute_result",
          "data": {
            "text/plain": [
              "['age', 'sex', 'bp', 'cholesterol', 'Na_to_K', 'drug']"
            ]
          },
          "metadata": {},
          "execution_count": 8
        }
      ],
      "source": [
        "data.columns\n"
      ]
    },
    {
      "cell_type": "code",
      "execution_count": 9,
      "id": "b75d73de",
      "metadata": {
        "id": "b75d73de"
      },
      "outputs": [],
      "source": [
        "\n",
        "indexers = [StringIndexer(inputCol=column, outputCol=column+\"_index\").fit(data) for column in list(set(data.columns)-set(['drug','Na_to_K','age'])) ]\n"
      ]
    },
    {
      "cell_type": "code",
      "execution_count": 10,
      "id": "0efb9d4d",
      "metadata": {
        "id": "0efb9d4d"
      },
      "outputs": [],
      "source": [
        "pipeline = Pipeline(stages=indexers)"
      ]
    },
    {
      "cell_type": "code",
      "execution_count": 11,
      "id": "964e25b0",
      "metadata": {
        "id": "964e25b0"
      },
      "outputs": [],
      "source": [
        "df_r = pipeline.fit(data).transform(data)\n"
      ]
    },
    {
      "cell_type": "code",
      "execution_count": 12,
      "id": "fc3d87e0",
      "metadata": {
        "colab": {
          "base_uri": "https://localhost:8080/"
        },
        "id": "fc3d87e0",
        "outputId": "0bc907a3-d887-4465-eb67-65fe518cf89d"
      },
      "outputs": [
        {
          "output_type": "stream",
          "name": "stdout",
          "text": [
            "+---+---+------+-----------+-------+-----+---------+-----------------+--------+\n",
            "|age|sex|    bp|cholesterol|Na_to_K| drug|sex_index|cholesterol_index|bp_index|\n",
            "+---+---+------+-----------+-------+-----+---------+-----------------+--------+\n",
            "| 23|  F|  HIGH|       HIGH| 25.355|drugY|      1.0|              0.0|     0.0|\n",
            "| 47|  M|   LOW|       HIGH| 13.093|drugC|      0.0|              0.0|     1.0|\n",
            "| 47|  M|   LOW|       HIGH| 10.114|drugC|      0.0|              0.0|     1.0|\n",
            "| 28|  F|NORMAL|       HIGH|  7.798|drugX|      1.0|              0.0|     2.0|\n",
            "| 61|  F|   LOW|       HIGH| 18.043|drugY|      1.0|              0.0|     1.0|\n",
            "| 22|  F|NORMAL|       HIGH|  8.607|drugX|      1.0|              0.0|     2.0|\n",
            "| 49|  F|NORMAL|       HIGH| 16.275|drugY|      1.0|              0.0|     2.0|\n",
            "| 41|  M|   LOW|       HIGH| 11.037|drugC|      0.0|              0.0|     1.0|\n",
            "| 60|  M|NORMAL|       HIGH| 15.171|drugY|      0.0|              0.0|     2.0|\n",
            "| 43|  M|   LOW|     NORMAL| 19.368|drugY|      0.0|              1.0|     1.0|\n",
            "| 47|  F|   LOW|       HIGH| 11.767|drugC|      1.0|              0.0|     1.0|\n",
            "| 34|  F|  HIGH|     NORMAL| 19.199|drugY|      1.0|              1.0|     0.0|\n",
            "| 43|  M|   LOW|       HIGH| 15.376|drugY|      0.0|              0.0|     1.0|\n",
            "| 74|  F|   LOW|       HIGH| 20.942|drugY|      1.0|              0.0|     1.0|\n",
            "| 50|  F|NORMAL|       HIGH| 12.703|drugX|      1.0|              0.0|     2.0|\n",
            "| 16|  F|  HIGH|     NORMAL| 15.516|drugY|      1.0|              1.0|     0.0|\n",
            "| 69|  M|   LOW|     NORMAL| 11.455|drugX|      0.0|              1.0|     1.0|\n",
            "| 43|  M|  HIGH|       HIGH| 13.972|drugA|      0.0|              0.0|     0.0|\n",
            "| 23|  M|   LOW|       HIGH|  7.298|drugC|      0.0|              0.0|     1.0|\n",
            "| 32|  F|  HIGH|     NORMAL| 25.974|drugY|      1.0|              1.0|     0.0|\n",
            "+---+---+------+-----------+-------+-----+---------+-----------------+--------+\n",
            "only showing top 20 rows\n",
            "\n"
          ]
        }
      ],
      "source": [
        "df_r.show()"
      ]
    },
    {
      "cell_type": "code",
      "execution_count": 13,
      "id": "899fe7dd",
      "metadata": {
        "id": "899fe7dd"
      },
      "outputs": [],
      "source": [
        "\n",
        "assembler = VectorAssembler(\n",
        "  inputCols=['age',\n",
        "             'sex_index',\n",
        "             'bp_index',\n",
        "             'cholesterol_index',\n",
        "             'Na_to_K'],\n",
        "              outputCol=\"features\")"
      ]
    },
    {
      "cell_type": "code",
      "execution_count": 14,
      "id": "214af47d",
      "metadata": {
        "id": "214af47d"
      },
      "outputs": [],
      "source": [
        "output = assembler.transform(df_r)\n"
      ]
    },
    {
      "cell_type": "code",
      "execution_count": 15,
      "id": "a57ef688",
      "metadata": {
        "colab": {
          "base_uri": "https://localhost:8080/"
        },
        "id": "a57ef688",
        "outputId": "da45ac5d-6e67-469d-af7a-41104b9abce0"
      },
      "outputs": [
        {
          "output_type": "stream",
          "name": "stdout",
          "text": [
            "+---+---+------+-----------+-------+-----+---------+-----------------+--------+--------------------+\n",
            "|age|sex|    bp|cholesterol|Na_to_K| drug|sex_index|cholesterol_index|bp_index|            features|\n",
            "+---+---+------+-----------+-------+-----+---------+-----------------+--------+--------------------+\n",
            "| 23|  F|  HIGH|       HIGH| 25.355|drugY|      1.0|              0.0|     0.0|[23.0,1.0,0.0,0.0...|\n",
            "| 47|  M|   LOW|       HIGH| 13.093|drugC|      0.0|              0.0|     1.0|[47.0,0.0,1.0,0.0...|\n",
            "| 47|  M|   LOW|       HIGH| 10.114|drugC|      0.0|              0.0|     1.0|[47.0,0.0,1.0,0.0...|\n",
            "| 28|  F|NORMAL|       HIGH|  7.798|drugX|      1.0|              0.0|     2.0|[28.0,1.0,2.0,0.0...|\n",
            "| 61|  F|   LOW|       HIGH| 18.043|drugY|      1.0|              0.0|     1.0|[61.0,1.0,1.0,0.0...|\n",
            "| 22|  F|NORMAL|       HIGH|  8.607|drugX|      1.0|              0.0|     2.0|[22.0,1.0,2.0,0.0...|\n",
            "| 49|  F|NORMAL|       HIGH| 16.275|drugY|      1.0|              0.0|     2.0|[49.0,1.0,2.0,0.0...|\n",
            "| 41|  M|   LOW|       HIGH| 11.037|drugC|      0.0|              0.0|     1.0|[41.0,0.0,1.0,0.0...|\n",
            "| 60|  M|NORMAL|       HIGH| 15.171|drugY|      0.0|              0.0|     2.0|[60.0,0.0,2.0,0.0...|\n",
            "| 43|  M|   LOW|     NORMAL| 19.368|drugY|      0.0|              1.0|     1.0|[43.0,0.0,1.0,1.0...|\n",
            "| 47|  F|   LOW|       HIGH| 11.767|drugC|      1.0|              0.0|     1.0|[47.0,1.0,1.0,0.0...|\n",
            "| 34|  F|  HIGH|     NORMAL| 19.199|drugY|      1.0|              1.0|     0.0|[34.0,1.0,0.0,1.0...|\n",
            "| 43|  M|   LOW|       HIGH| 15.376|drugY|      0.0|              0.0|     1.0|[43.0,0.0,1.0,0.0...|\n",
            "| 74|  F|   LOW|       HIGH| 20.942|drugY|      1.0|              0.0|     1.0|[74.0,1.0,1.0,0.0...|\n",
            "| 50|  F|NORMAL|       HIGH| 12.703|drugX|      1.0|              0.0|     2.0|[50.0,1.0,2.0,0.0...|\n",
            "| 16|  F|  HIGH|     NORMAL| 15.516|drugY|      1.0|              1.0|     0.0|[16.0,1.0,0.0,1.0...|\n",
            "| 69|  M|   LOW|     NORMAL| 11.455|drugX|      0.0|              1.0|     1.0|[69.0,0.0,1.0,1.0...|\n",
            "| 43|  M|  HIGH|       HIGH| 13.972|drugA|      0.0|              0.0|     0.0|(5,[0,4],[43.0,13...|\n",
            "| 23|  M|   LOW|       HIGH|  7.298|drugC|      0.0|              0.0|     1.0|[23.0,0.0,1.0,0.0...|\n",
            "| 32|  F|  HIGH|     NORMAL| 25.974|drugY|      1.0|              1.0|     0.0|[32.0,1.0,0.0,1.0...|\n",
            "+---+---+------+-----------+-------+-----+---------+-----------------+--------+--------------------+\n",
            "only showing top 20 rows\n",
            "\n"
          ]
        }
      ],
      "source": [
        "output.show()"
      ]
    },
    {
      "cell_type": "code",
      "execution_count": 16,
      "id": "d9bd67b7",
      "metadata": {
        "id": "d9bd67b7"
      },
      "outputs": [],
      "source": [
        "from pyspark.ml.feature import StringIndexer\n"
      ]
    },
    {
      "cell_type": "code",
      "execution_count": 17,
      "id": "b26b2952",
      "metadata": {
        "id": "b26b2952"
      },
      "outputs": [],
      "source": [
        "\n",
        "indexer = StringIndexer(inputCol=\"drug\", outputCol=\"drugIndex\")\n",
        "output_fixed = indexer.fit(output).transform(output)"
      ]
    },
    {
      "cell_type": "code",
      "execution_count": 18,
      "id": "b961643d",
      "metadata": {
        "colab": {
          "base_uri": "https://localhost:8080/"
        },
        "id": "b961643d",
        "outputId": "1fd59e12-42cd-45c8-e890-f17908bbea50"
      },
      "outputs": [
        {
          "output_type": "execute_result",
          "data": {
            "text/plain": [
              "DataFrame[features: vector, drugIndex: double]"
            ]
          },
          "metadata": {},
          "execution_count": 18
        }
      ],
      "source": [
        "final_data = output_fixed.select(\"features\",'drugIndex')\n",
        "final_data"
      ]
    },
    {
      "cell_type": "code",
      "execution_count": 19,
      "id": "a925f9f7",
      "metadata": {
        "id": "a925f9f7"
      },
      "outputs": [],
      "source": [
        "train_data,test_data = final_data.randomSplit([0.7,0.3])"
      ]
    },
    {
      "cell_type": "code",
      "execution_count": 20,
      "id": "b3c9a03d",
      "metadata": {
        "colab": {
          "base_uri": "https://localhost:8080/"
        },
        "id": "b3c9a03d",
        "outputId": "120ee4e1-a556-490c-8547-abe329caf6ec"
      },
      "outputs": [
        {
          "output_type": "stream",
          "name": "stdout",
          "text": [
            "+--------------------+---------+\n",
            "|            features|drugIndex|\n",
            "+--------------------+---------+\n",
            "|(5,[0,4],[23.0,8....|      2.0|\n",
            "|(5,[0,4],[29.0,12...|      2.0|\n",
            "|(5,[0,4],[34.0,18...|      0.0|\n",
            "|(5,[0,4],[39.0,9....|      2.0|\n",
            "|(5,[0,4],[40.0,27...|      0.0|\n",
            "|(5,[0,4],[47.0,10...|      2.0|\n",
            "|(5,[0,4],[50.0,7....|      2.0|\n",
            "|(5,[0,4],[51.0,18...|      0.0|\n",
            "|(5,[0,4],[59.0,13...|      3.0|\n",
            "|(5,[0,4],[60.0,13...|      3.0|\n",
            "|(5,[0,4],[70.0,9....|      3.0|\n",
            "|(5,[0,4],[70.0,13...|      3.0|\n",
            "|[16.0,0.0,0.0,1.0...|      0.0|\n",
            "|[16.0,1.0,0.0,1.0...|      0.0|\n",
            "|[17.0,0.0,2.0,1.0...|      1.0|\n",
            "|[18.0,1.0,0.0,1.0...|      0.0|\n",
            "|[19.0,1.0,0.0,0.0...|      2.0|\n",
            "|[19.0,1.0,0.0,1.0...|      0.0|\n",
            "|[20.0,0.0,0.0,1.0...|      0.0|\n",
            "|[20.0,1.0,0.0,0.0...|      2.0|\n",
            "+--------------------+---------+\n",
            "only showing top 20 rows\n",
            "\n"
          ]
        }
      ],
      "source": [
        "train_data.show()"
      ]
    },
    {
      "cell_type": "code",
      "execution_count": 21,
      "id": "a89c2c19",
      "metadata": {
        "id": "a89c2c19"
      },
      "outputs": [],
      "source": [
        "from pyspark.ml.classification import DecisionTreeClassifier\n"
      ]
    },
    {
      "cell_type": "code",
      "execution_count": 22,
      "id": "f956a057",
      "metadata": {
        "id": "f956a057"
      },
      "outputs": [],
      "source": [
        "dtc = DecisionTreeClassifier(labelCol='drugIndex',featuresCol='features')\n"
      ]
    },
    {
      "cell_type": "code",
      "execution_count": 23,
      "id": "ea82e6c9",
      "metadata": {
        "id": "ea82e6c9"
      },
      "outputs": [],
      "source": [
        "# Train the model\n",
        "dtc_model = dtc.fit(train_data)"
      ]
    },
    {
      "cell_type": "code",
      "execution_count": 24,
      "id": "39f15e27",
      "metadata": {
        "colab": {
          "base_uri": "https://localhost:8080/"
        },
        "id": "39f15e27",
        "outputId": "ba406741-a5d3-4a22-9017-3786f9375b0b"
      },
      "outputs": [
        {
          "output_type": "stream",
          "name": "stdout",
          "text": [
            "+--------------------+---------+----------+--------------------+\n",
            "|            features|drugIndex|prediction|       rawPrediction|\n",
            "+--------------------+---------+----------+--------------------+\n",
            "|(5,[0,4],[31.0,30...|      0.0|       0.0|[63.0,0.0,0.0,0.0...|\n",
            "|(5,[0,4],[43.0,13...|      2.0|       2.0|[0.0,0.0,19.0,0.0...|\n",
            "|(5,[0,4],[58.0,18...|      0.0|       0.0|[63.0,0.0,0.0,0.0...|\n",
            "|(5,[0,4],[66.0,16...|      0.0|       0.0|[63.0,0.0,0.0,0.0...|\n",
            "|(5,[0,4],[68.0,11...|      3.0|       3.0|[0.0,0.0,0.0,9.0,...|\n",
            "|(5,[0,4],[74.0,9....|      3.0|       3.0|[0.0,0.0,0.0,9.0,...|\n",
            "|[15.0,0.0,0.0,1.0...|      0.0|       0.0|[63.0,0.0,0.0,0.0...|\n",
            "|[15.0,0.0,2.0,0.0...|      1.0|       1.0|[0.0,26.0,0.0,0.0...|\n",
            "|[15.0,1.0,0.0,1.0...|      0.0|       0.0|[63.0,0.0,0.0,0.0...|\n",
            "|[16.0,0.0,1.0,0.0...|      4.0|       4.0|[0.0,0.0,0.0,0.0,...|\n",
            "|[18.0,1.0,0.0,0.0...|      0.0|       0.0|[63.0,0.0,0.0,0.0...|\n",
            "|[18.0,1.0,2.0,1.0...|      1.0|       1.0|[0.0,26.0,0.0,0.0...|\n",
            "|[20.0,1.0,2.0,1.0...|      1.0|       1.0|[0.0,26.0,0.0,0.0...|\n",
            "|[22.0,1.0,0.0,1.0...|      0.0|       0.0|[63.0,0.0,0.0,0.0...|\n",
            "|[23.0,0.0,1.0,0.0...|      4.0|       4.0|[0.0,0.0,0.0,0.0,...|\n",
            "|[23.0,0.0,2.0,0.0...|      1.0|       1.0|[0.0,26.0,0.0,0.0...|\n",
            "|[24.0,1.0,0.0,1.0...|      0.0|       0.0|[63.0,0.0,0.0,0.0...|\n",
            "|[24.0,1.0,2.0,0.0...|      1.0|       1.0|[0.0,26.0,0.0,0.0...|\n",
            "|[26.0,0.0,1.0,1.0...|      0.0|       0.0|[63.0,0.0,0.0,0.0...|\n",
            "|[28.0,1.0,1.0,0.0...|      4.0|       4.0|[0.0,0.0,0.0,0.0,...|\n",
            "+--------------------+---------+----------+--------------------+\n",
            "only showing top 20 rows\n",
            "\n"
          ]
        }
      ],
      "source": [
        "dtc_predictions = dtc_model.transform(test_data)\n",
        "predicted = dtc_predictions.select(\"features\",\"drugIndex\", \"prediction\",\"rawPrediction\")\n",
        "predicted.show()"
      ]
    },
    {
      "cell_type": "code",
      "execution_count": 25,
      "id": "95949090",
      "metadata": {
        "id": "95949090"
      },
      "outputs": [],
      "source": [
        "from pyspark.ml.evaluation import MulticlassClassificationEvaluator\n"
      ]
    },
    {
      "cell_type": "code",
      "execution_count": 26,
      "id": "7f67950f",
      "metadata": {
        "id": "7f67950f"
      },
      "outputs": [],
      "source": [
        "# Select (prediction, true label) and compute test error\n",
        "acc_evaluator = MulticlassClassificationEvaluator(labelCol=\"drugIndex\", predictionCol=\"prediction\", metricName=\"accuracy\")"
      ]
    },
    {
      "cell_type": "code",
      "execution_count": 27,
      "id": "e8840c5c",
      "metadata": {
        "id": "e8840c5c"
      },
      "outputs": [],
      "source": [
        "dtc_acc = acc_evaluator.evaluate(dtc_predictions)\n"
      ]
    },
    {
      "cell_type": "code",
      "execution_count": 29,
      "id": "bd57a2f2",
      "metadata": {
        "colab": {
          "base_uri": "https://localhost:8080/"
        },
        "id": "bd57a2f2",
        "outputId": "6b08aad6-720b-4703-faa5-ce75cf9e5118"
      },
      "outputs": [
        {
          "output_type": "execute_result",
          "data": {
            "text/plain": [
              "1.0"
            ]
          },
          "metadata": {},
          "execution_count": 29
        }
      ],
      "source": [
        "dtc_acc"
      ]
    },
    {
      "cell_type": "code",
      "source": [
        "def knn(train_data, test_data, k=3):\n",
        "    # Convert to Pandas for simplicity\n",
        "    train_data_pd = train_data.select(\"features\", \"drugIndex\").toPandas()\n",
        "    test_data_pd = test_data.select(\"features\", \"drugIndex\").toPandas()\n",
        "\n",
        "    # Convert features to NumPy arrays\n",
        "    X_train = np.array([x.toArray() for x in train_data_pd['features']])\n",
        "    X_test = np.array([x.toArray() for x in test_data_pd['features']])\n",
        "\n",
        "    # Compute the distances between each test point and all the train points\n",
        "    distances = pairwise_distances(X_test, X_train)\n",
        "\n",
        "    predictions = []\n",
        "    for i in range(distances.shape[0]):\n",
        "        # Get indices of the k nearest neighbors\n",
        "        k_neighbors = np.argsort(distances[i])[:k]\n",
        "\n",
        "        # Get majority class from the k neighbors\n",
        "        k_labels = train_data_pd.iloc[k_neighbors]['drugIndex'].values\n",
        "\n",
        "        # Convert k_labels to integers and get majority class\n",
        "        majority_class = np.bincount(k_labels.astype(int)).argmax()\n",
        "        predictions.append(majority_class)\n",
        "\n",
        "    # Compare predictions to the actual values\n",
        "    true_labels = test_data_pd['drugIndex'].values\n",
        "    accuracy = np.sum(np.array(predictions) == true_labels) / len(true_labels)\n",
        "\n",
        "    return accuracy\n",
        "\n",
        "# Run KNN classifier\n",
        "knn_acc = knn(train_data, test_data, k=3)\n",
        "print(f\"KNN Accuracy: {knn_acc}\")\n"
      ],
      "metadata": {
        "colab": {
          "base_uri": "https://localhost:8080/"
        },
        "id": "ZH3VQSIxBIek",
        "outputId": "b3b4208a-0e56-4be3-ad23-47a1627971a8"
      },
      "id": "ZH3VQSIxBIek",
      "execution_count": 32,
      "outputs": [
        {
          "output_type": "stream",
          "name": "stdout",
          "text": [
            "KNN Accuracy: 0.7321428571428571\n"
          ]
        }
      ]
    },
    {
      "cell_type": "code",
      "source": [
        "from pyspark.ml.classification import NaiveBayes\n",
        "\n",
        "# Naive Bayes Classifier\n",
        "nb = NaiveBayes(featuresCol=\"features\", labelCol=\"drugIndex\", modelType=\"multinomial\")\n",
        "\n",
        "# Train the Naive Bayes model\n",
        "nb_model = nb.fit(train_data)\n",
        "\n",
        "# Make predictions\n",
        "nb_predictions = nb_model.transform(test_data)\n",
        "nb_predicted = nb_predictions.select(\"features\", \"drugIndex\", \"prediction\", \"rawPrediction\")\n",
        "\n",
        "# Evaluate Naive Bayes model\n",
        "nb_acc = acc_evaluator.evaluate(nb_predictions)\n",
        "print(f\"Naive Bayes Accuracy: {nb_acc}\")\n"
      ],
      "metadata": {
        "colab": {
          "base_uri": "https://localhost:8080/"
        },
        "id": "3oyrWinnBMxy",
        "outputId": "c2fa729b-6f82-417a-e40e-b5def1f4e826"
      },
      "id": "3oyrWinnBMxy",
      "execution_count": 31,
      "outputs": [
        {
          "output_type": "stream",
          "name": "stdout",
          "text": [
            "Naive Bayes Accuracy: 0.625\n"
          ]
        }
      ]
    },
    {
      "cell_type": "code",
      "source": [
        "# Import necessary libraries\n",
        "from pyspark.sql import SparkSession\n",
        "from pyspark.ml.feature import VectorAssembler, StringIndexer\n",
        "from pyspark.ml import Pipeline\n",
        "from pyspark.ml.classification import DecisionTreeClassifier, NaiveBayes\n",
        "from pyspark.ml.evaluation import MulticlassClassificationEvaluator\n",
        "from sklearn.metrics import pairwise_distances\n",
        "import numpy as np\n",
        "\n",
        "# Initialize Spark session\n",
        "spark = SparkSession.builder.appName('LandslidingPrediction').getOrCreate()\n",
        "\n",
        "# Load data\n",
        "data = spark.read.csv('drug.csv', inferSchema=True, header=True)\n",
        "\n",
        "# Print schema of the dataset\n",
        "data.printSchema()\n",
        "\n",
        "# Show first few rows of the dataset\n",
        "data.show()\n",
        "\n",
        "# Index categorical columns using StringIndexer\n",
        "indexers = [StringIndexer(inputCol=column, outputCol=column+\"_index\").fit(data)\n",
        "            for column in list(set(data.columns)-set(['drug','Na_to_K','age']))]\n",
        "\n",
        "# Apply the StringIndexer transformations\n",
        "pipeline = Pipeline(stages=indexers)\n",
        "df_r = pipeline.fit(data).transform(data)\n",
        "\n",
        "# Assemble features into a single vector\n",
        "assembler = VectorAssembler(\n",
        "    inputCols=['age', 'sex_index', 'bp_index', 'cholesterol_index', 'Na_to_K'],\n",
        "    outputCol=\"features\"\n",
        ")\n",
        "output = assembler.transform(df_r)\n",
        "\n",
        "# Index the target variable 'drug'\n",
        "indexer = StringIndexer(inputCol=\"drug\", outputCol=\"drugIndex\")\n",
        "output_fixed = indexer.fit(output).transform(output)\n",
        "\n",
        "# Select features and target variable\n",
        "final_data = output_fixed.select(\"features\", 'drugIndex')\n",
        "\n",
        "# Split the data into train and test datasets (70% train, 30% test)\n",
        "train_data, test_data = final_data.randomSplit([0.7, 0.3])\n",
        "\n",
        "# Train and Evaluate Decision Tree Classifier\n",
        "dtc = DecisionTreeClassifier(labelCol='drugIndex', featuresCol='features')\n",
        "dtc_model = dtc.fit(train_data)\n",
        "dtc_predictions = dtc_model.transform(test_data)\n",
        "\n",
        "# Evaluate Decision Tree classifier\n",
        "acc_evaluator = MulticlassClassificationEvaluator(labelCol=\"drugIndex\", predictionCol=\"prediction\", metricName=\"accuracy\")\n",
        "dtc_acc = acc_evaluator.evaluate(dtc_predictions)\n",
        "print(f\"Decision Tree Accuracy: {dtc_acc}\")\n",
        "\n",
        "# Implement KNN Classifier\n",
        "def knn(train_data, test_data, k=3):\n",
        "    # Convert to Pandas for simplicity\n",
        "    train_data_pd = train_data.select(\"features\", \"drugIndex\").toPandas()\n",
        "    test_data_pd = test_data.select(\"features\", \"drugIndex\").toPandas()\n",
        "\n",
        "    # Convert features to NumPy arrays\n",
        "    X_train = np.array([x.toArray() for x in train_data_pd['features']])\n",
        "    X_test = np.array([x.toArray() for x in test_data_pd['features']])\n",
        "\n",
        "    # Compute the distances between each test point and all the train points\n",
        "    distances = pairwise_distances(X_test, X_train)\n",
        "\n",
        "    predictions = []\n",
        "    for i in range(distances.shape[0]):\n",
        "        # Get indices of the k nearest neighbors\n",
        "        k_neighbors = np.argsort(distances[i])[:k]\n",
        "\n",
        "        # Get majority class from the k neighbors\n",
        "        k_labels = train_data_pd.iloc[k_neighbors]['drugIndex'].values\n",
        "\n",
        "        # Convert k_labels to integers and get majority class\n",
        "        majority_class = np.bincount(k_labels.astype(int)).argmax()\n",
        "        predictions.append(majority_class)\n",
        "\n",
        "    # Compare predictions to the actual values\n",
        "    true_labels = test_data_pd['drugIndex'].values\n",
        "    accuracy = np.sum(np.array(predictions) == true_labels) / len(true_labels)\n",
        "\n",
        "    return accuracy\n",
        "\n",
        "# Run KNN classifier\n",
        "knn_acc = knn(train_data, test_data, k=3)\n",
        "print(f\"KNN Accuracy: {knn_acc}\")\n",
        "\n",
        "# Train and Evaluate Naive Bayes Classifier\n",
        "nb = NaiveBayes(featuresCol=\"features\", labelCol=\"drugIndex\", modelType=\"multinomial\")\n",
        "nb_model = nb.fit(train_data)\n",
        "nb_predictions = nb_model.transform(test_data)\n",
        "\n",
        "# Evaluate Naive Bayes classifier\n",
        "nb_acc = acc_evaluator.evaluate(nb_predictions)\n",
        "print(f\"Naive Bayes Accuracy: {nb_acc}\")\n"
      ],
      "metadata": {
        "colab": {
          "base_uri": "https://localhost:8080/"
        },
        "id": "EZeevyaNCD4i",
        "outputId": "c3caddd2-ccb4-49d1-fa47-42c97f58a067"
      },
      "id": "EZeevyaNCD4i",
      "execution_count": 33,
      "outputs": [
        {
          "output_type": "stream",
          "name": "stdout",
          "text": [
            "root\n",
            " |-- age: integer (nullable = true)\n",
            " |-- sex: string (nullable = true)\n",
            " |-- bp: string (nullable = true)\n",
            " |-- cholesterol: string (nullable = true)\n",
            " |-- Na_to_K: double (nullable = true)\n",
            " |-- drug: string (nullable = true)\n",
            "\n",
            "+---+---+------+-----------+-------+-----+\n",
            "|age|sex|    bp|cholesterol|Na_to_K| drug|\n",
            "+---+---+------+-----------+-------+-----+\n",
            "| 23|  F|  HIGH|       HIGH| 25.355|drugY|\n",
            "| 47|  M|   LOW|       HIGH| 13.093|drugC|\n",
            "| 47|  M|   LOW|       HIGH| 10.114|drugC|\n",
            "| 28|  F|NORMAL|       HIGH|  7.798|drugX|\n",
            "| 61|  F|   LOW|       HIGH| 18.043|drugY|\n",
            "| 22|  F|NORMAL|       HIGH|  8.607|drugX|\n",
            "| 49|  F|NORMAL|       HIGH| 16.275|drugY|\n",
            "| 41|  M|   LOW|       HIGH| 11.037|drugC|\n",
            "| 60|  M|NORMAL|       HIGH| 15.171|drugY|\n",
            "| 43|  M|   LOW|     NORMAL| 19.368|drugY|\n",
            "| 47|  F|   LOW|       HIGH| 11.767|drugC|\n",
            "| 34|  F|  HIGH|     NORMAL| 19.199|drugY|\n",
            "| 43|  M|   LOW|       HIGH| 15.376|drugY|\n",
            "| 74|  F|   LOW|       HIGH| 20.942|drugY|\n",
            "| 50|  F|NORMAL|       HIGH| 12.703|drugX|\n",
            "| 16|  F|  HIGH|     NORMAL| 15.516|drugY|\n",
            "| 69|  M|   LOW|     NORMAL| 11.455|drugX|\n",
            "| 43|  M|  HIGH|       HIGH| 13.972|drugA|\n",
            "| 23|  M|   LOW|       HIGH|  7.298|drugC|\n",
            "| 32|  F|  HIGH|     NORMAL| 25.974|drugY|\n",
            "+---+---+------+-----------+-------+-----+\n",
            "only showing top 20 rows\n",
            "\n",
            "Decision Tree Accuracy: 1.0\n",
            "KNN Accuracy: 0.6764705882352942\n",
            "Naive Bayes Accuracy: 0.6323529411764706\n"
          ]
        }
      ]
    }
  ],
  "metadata": {
    "kernelspec": {
      "display_name": "Python 3 (ipykernel)",
      "language": "python",
      "name": "python3"
    },
    "language_info": {
      "codemirror_mode": {
        "name": "ipython",
        "version": 3
      },
      "file_extension": ".py",
      "mimetype": "text/x-python",
      "name": "python",
      "nbconvert_exporter": "python",
      "pygments_lexer": "ipython3",
      "version": "3.9.12"
    },
    "colab": {
      "provenance": [],
      "include_colab_link": true
    }
  },
  "nbformat": 4,
  "nbformat_minor": 5
}